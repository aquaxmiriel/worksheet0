{
  "nbformat": 4,
  "nbformat_minor": 0,
  "metadata": {
    "colab": {
      "provenance": [],
      "authorship_tag": "ABX9TyNcjknGXARiNr8D+ePM6S1U",
      "include_colab_link": true
    },
    "kernelspec": {
      "name": "python3",
      "display_name": "Python 3"
    },
    "language_info": {
      "name": "python"
    }
  },
  "cells": [
    {
      "cell_type": "markdown",
      "metadata": {
        "id": "view-in-github",
        "colab_type": "text"
      },
      "source": [
        "<a href=\"https://colab.research.google.com/github/aquapirate/worksheet0/blob/main/2408239_NikishaShrestha.ipynb\" target=\"_parent\"><img src=\"https://colab.research.google.com/assets/colab-badge.svg\" alt=\"Open In Colab\"/></a>"
      ]
    },
    {
      "cell_type": "code",
      "execution_count": null,
      "metadata": {
        "colab": {
          "base_uri": "https://localhost:8080/"
        },
        "id": "e9Grp4a_C8z_",
        "outputId": "ce86992c-6092-4125-ad5e-611de2fcf0df"
      },
      "outputs": [
        {
          "output_type": "stream",
          "name": "stdout",
          "text": [
            "Cold temperatures (<10°C): [8.2, 7.9, 9.0, 8.5, 7.7, 8.4, 9.5, 8.1, 7.6, 8.0, 7.8, 8.7, 9.2, 8.3, 8.9, 7.8]\n",
            "Mild temperatures (10°C to 15°C): [14.1, 13.5, 13.0, 12.9, 13.3, 14.0, 13.4, 14.2, 12.8, 13.7, 13.6, 13.8, 13.9, 12.7, 13.1, 12.5]\n",
            "Comfortable temperatures (15°C to 20°C): [17.4, 18.0, 17.8, 16.5, 17.2, 16.7, 18.3, 17.9, 17.0, 16.8, 17.5, 17.1, 18.1, 16.4, 18.2, 16.6]\n"
          ]
        }
      ],
      "source": [
        "# Nikisha Shrestha\n",
        "# 7.1\n",
        "# Task 1\n",
        "# List of temperatures measured at Tribhuwan International Airport (Kathmandu)\n",
        "temperatures = [\n",
        "    8.2, 17.4, 14.1, 7.9, 18.0, 13.5, 9.0, 17.8, 13.0, 8.5,\n",
        "    16.5, 12.9, 7.7, 17.2, 13.3, 8.4, 16.7, 14.0, 9.5, 18.3, 13.4, 8.1,\n",
        "    17.9, 14.2, 7.6, 17.0, 12.8, 8.0, 16.8, 13.7, 7.8, 17.5, 13.6, 8.7,\n",
        "    17.1, 13.8, 9.2, 18.1, 13.9, 8.3, 16.4, 12.7, 8.9, 18.2, 13.1, 7.8,\n",
        "    16.6, 12.5\n",
        "]\n",
        "\n",
        "# Empty lists for temperature classifications\n",
        "cold = []\n",
        "mild = []\n",
        "comfortable = []\n",
        "\n",
        "# Iterate over the temperatures list and classify each temperature\n",
        "for temp in temperatures:\n",
        "    if temp < 10:\n",
        "        cold.append(temp)\n",
        "    elif 10 <= temp <= 15:\n",
        "        mild.append(temp)\n",
        "    elif 15 < temp <= 20:\n",
        "        comfortable.append(temp)\n",
        "\n",
        "# Print the classified lists\n",
        "print(\"Cold temperatures (<10°C):\", cold)\n",
        "print(\"Mild temperatures (10°C to 15°C):\", mild)\n",
        "print(\"Comfortable temperatures (15°C to 20°C):\", comfortable)"
      ]
    },
    {
      "cell_type": "code",
      "source": [
        "# Nikisha Shrestha\n",
        "# Task 2\n",
        "# 1. It was mild for 16 times.\n",
        "# 2. It was comfortable for 16 times.\n",
        "# 3. It was cold for 16 times."
      ],
      "metadata": {
        "id": "4D9KxM0QDDaC"
      },
      "execution_count": null,
      "outputs": []
    },
    {
      "cell_type": "code",
      "source": [
        "# Nikisha Shrestha\n",
        "# Task 3\n",
        "# List of temperatures in Celsius\n",
        "temperatures_celsius =  [\n",
        "    8.2, 17.4, 14.1, 7.9, 18.0, 13.5, 9.0, 17.8, 13.0, 8.5,\n",
        "    16.5, 12.9, 7.7, 17.2, 13.3, 8.4, 16.7, 14.0, 9.5, 18.3, 13.4, 8.1,\n",
        "    17.9, 14.2, 7.6, 17.0, 12.8, 8.0, 16.8, 13.7, 7.8, 17.5, 13.6, 8.7,\n",
        "    17.1, 13.8, 9.2, 18.1, 13.9, 8.3, 16.4, 12.7, 8.9, 18.2, 13.1, 7.8,\n",
        "    16.6, 12.5\n",
        "]\n",
        "\n",
        "# Initialize an empty list to store the converted Fahrenheit values\n",
        "temperatures_fahrenheit = []\n",
        "\n",
        "# Iterate over the Celsius temperatures and convert to Fahrenheit\n",
        "for temp_c in temperatures_celsius:\n",
        "    temp_f = round((temp_c * 9 / 5) + 32,2)  # Conversion formula\n",
        "    temperatures_fahrenheit.append(temp_f)\n",
        "\n",
        "# Print the converted Fahrenheit values\n",
        "print(\"Temperatures in Fahrenheit:\", temperatures_fahrenheit)"
      ],
      "metadata": {
        "colab": {
          "base_uri": "https://localhost:8080/"
        },
        "id": "mDMzMMJ4DGM7",
        "outputId": "95dcc365-f73f-46e2-b767-c2256891c65a"
      },
      "execution_count": null,
      "outputs": [
        {
          "output_type": "stream",
          "name": "stdout",
          "text": [
            "Temperatures in Fahrenheit: [46.76, 63.32, 57.38, 46.22, 64.4, 56.3, 48.2, 64.04, 55.4, 47.3, 61.7, 55.22, 45.86, 62.96, 55.94, 47.12, 62.06, 57.2, 49.1, 64.94, 56.12, 46.58, 64.22, 57.56, 45.68, 62.6, 55.04, 46.4, 62.24, 56.66, 46.04, 63.5, 56.48, 47.66, 62.78, 56.84, 48.56, 64.58, 57.02, 46.94, 61.52, 54.86, 48.02, 64.76, 55.58, 46.04, 61.88, 54.5]\n"
          ]
        }
      ]
    },
    {
      "cell_type": "code",
      "source": [
        "# Nikisha Shrestha\n",
        "# Task 4\n",
        "# Temperatures (Celsius) for analysis\n",
        "temperatures_celsius = [\n",
        "    8.2, 17.4, 14.1, 7.9, 18.0, 13.5, 9.0, 17.8, 13.0, 8.5,\n",
        "    16.5, 12.9, 7.7, 17.2, 13.3, 8.4, 16.7, 14.0, 9.5, 18.3, 13.4, 8.1,\n",
        "    17.9, 14.2, 7.6, 17.0, 12.8, 8.0, 16.8, 13.7, 7.8, 17.5, 13.6, 8.7,\n",
        "    17.1, 13.8, 9.2, 18.1, 13.9, 8.3, 16.4, 12.7, 8.9, 18.2, 13.1, 7.8,\n",
        "    16.6, 12.5\n",
        "]\n",
        "\n",
        "# Initialize lists for night, day, and evening temperatures\n",
        "night_temps = []\n",
        "evening_temps = []\n",
        "day_temps = []\n",
        "\n",
        "# Assign readings to appropriate time-of-day lists\n",
        "for i, temp in enumerate(temperatures_celsius):\n",
        "    time_of_day = i % 24  # To group by 24-hour cycles\n",
        "    if 0 <= time_of_day < 8:\n",
        "        night_temps.append(temp)\n",
        "    elif 8 <= time_of_day < 16:\n",
        "        evening_temps.append(temp)\n",
        "    elif 16 <= time_of_day < 24:\n",
        "        day_temps.append(temp)\n",
        "\n",
        "# Calculate the average day-time temperature\n",
        "average_day_temp = sum(day_temps) / len(day_temps)\n",
        "print(f\"Average Day-Time Temperature: {average_day_temp:.2f} °C\")"
      ],
      "metadata": {
        "colab": {
          "base_uri": "https://localhost:8080/"
        },
        "id": "dU8Do90cDI8D",
        "outputId": "8d74628a-03fd-4bad-e450-5c0cff694491"
      },
      "execution_count": null,
      "outputs": [
        {
          "output_type": "stream",
          "name": "stdout",
          "text": [
            "Average Day-Time Temperature: 13.64 °C\n"
          ]
        }
      ]
    },
    {
      "cell_type": "code",
      "source": [
        "# Nikisha Shrestha\n",
        "# 8.1.1\n",
        "# Task 1\n",
        "def sum_nested_list(nested_list):\n",
        "    \"\"\"\n",
        "    Calculate the sum of all numbers in a nested list.\n",
        "\n",
        "    Args:\n",
        "        nested_list (list): A list that may contain integers or other lists of integers.\n",
        "\n",
        "    Returns:\n",
        "        int: The total sum of all integers in the nested list, including those in sublists.\n",
        "    \"\"\"\n",
        "    total = 0  # Initialize the sum\n",
        "\n",
        "    for element in nested_list:  # Iterate through each element in the list\n",
        "        if isinstance(element, list):  # Check if the current element is a list\n",
        "            total += sum_nested_list(element)  # Recursively call the function for the sublist\n",
        "        else:\n",
        "            total += element  # Add the integer to the total\n",
        "\n",
        "    return total  # Return the total sum\n",
        "\n",
        "nested_list = [1, [2, [3, 4], 5], 6, [7, 8]]\n",
        "result = sum_nested_list(nested_list)\n",
        "print(\"Total sum:\", result)\n"
      ],
      "metadata": {
        "colab": {
          "base_uri": "https://localhost:8080/"
        },
        "id": "i47VBZMHDMF6",
        "outputId": "ceb4278d-e06b-42bb-a623-436deb4f8a2a"
      },
      "execution_count": null,
      "outputs": [
        {
          "output_type": "stream",
          "name": "stdout",
          "text": [
            "Total sum: 36\n"
          ]
        }
      ]
    },
    {
      "cell_type": "code",
      "source": [
        "# Nikisha Shrestha\n",
        "# Task 2\n",
        "def generate_permutations(s):\n",
        "    \"\"\"\n",
        "    Generate all unique permutations of a given string.\n",
        "\n",
        "    Args:\n",
        "        s (str): The input string.\n",
        "\n",
        "    Returns:\n",
        "        list: A list of all unique permutations.\n",
        "    \"\"\"\n",
        "    def backtrack(path, remaining, results):\n",
        "        if not remaining:  # Base case: no characters left to permute\n",
        "            results.append(\"\".join(path))\n",
        "            return\n",
        "\n",
        "        for i in range(len(remaining)):\n",
        "            # Choose the character at index i\n",
        "            char = remaining[i]\n",
        "            # Explore permutations with this character included\n",
        "            backtrack(path + [char], remaining[:i] + remaining[i+1:], results)\n",
        "\n",
        "    results = []  # Initialize the results list\n",
        "    backtrack([], list(s), results)  # Start backtracking\n",
        "    return results\n",
        "\n",
        "print(generate_permutations(\"abc\"))"
      ],
      "metadata": {
        "colab": {
          "base_uri": "https://localhost:8080/"
        },
        "id": "ZUdY-jprDQy9",
        "outputId": "6b1af88c-4644-4108-d5f0-dbe0bd1f66bd"
      },
      "execution_count": null,
      "outputs": [
        {
          "output_type": "stream",
          "name": "stdout",
          "text": [
            "['abc', 'acb', 'bac', 'bca', 'cab', 'cba']\n"
          ]
        }
      ]
    },
    {
      "cell_type": "code",
      "source": [
        "# Nikisha Shrestha\n",
        "# Task 3\n",
        "def calculate_directory_size(directory):\n",
        "    total_size = 0\n",
        "\n",
        "    # Iterate over each item in the directory\n",
        "    for item, value in directory.items():\n",
        "        if isinstance(value, dict):  # If the value is a subdirectory, recurse into it\n",
        "            total_size += calculate_directory_size(value)\n",
        "        else:  # If it's a file, add its size to the total\n",
        "            total_size += value\n",
        "\n",
        "    return total_size\n",
        "\n",
        "# Sample directory structure\n",
        "directory_structure = {\n",
        "    \"file1.txt\": 200,\n",
        "    \"file2.txt\": 300,\n",
        "    \"subdir1\": {\n",
        "        \"file3.txt\": 400,\n",
        "        \"file4.txt\": 100\n",
        "    },\n",
        "    \"subdir2\": {\n",
        "        \"subsubdir1\": {\n",
        "            \"file5.txt\": 250\n",
        "        },\n",
        "        \"file6.txt\": 150\n",
        "    }\n",
        "}\n",
        "\n",
        "# Calculate the total size of the directory structure\n",
        "total_size = calculate_directory_size(directory_structure)\n",
        "\n",
        "print(f\"Total directory size: {total_size} KB\")"
      ],
      "metadata": {
        "colab": {
          "base_uri": "https://localhost:8080/"
        },
        "id": "5NJpLoXUDUKo",
        "outputId": "9ed39b47-0188-4ff9-ddf0-b1006644fae5"
      },
      "execution_count": null,
      "outputs": [
        {
          "output_type": "stream",
          "name": "stdout",
          "text": [
            "Total directory size: 1400 KB\n"
          ]
        }
      ]
    },
    {
      "cell_type": "code",
      "source": [
        "# Nikisha Shrestha\n",
        "# 8.2.2\n",
        "# Task 1\n",
        "def min_coins(coins, amount):\n",
        "    \"\"\"\n",
        "    Finds the minimum number of coins needed to make up a given amount using dynamic programming.\n",
        "    This function solves the coin change problem by determining the fewest number of coins from a given set of coin denominations that sum up to a target amount.\n",
        "\n",
        "    Parameters:\n",
        "    coins (list of int): A list of coin denominations available for making change. Each coin denomination is a positive integer.\n",
        "    amount (int): The target amount for which we need to find the minimum number of coins. It must be a non-negative integer.\n",
        "\n",
        "    Returns:\n",
        "    int: The minimum number of coins required to make the given amount.\n",
        "         If it is not possible to make the amount with the given coins, returns -1.\n",
        "\n",
        "    Example:\n",
        "    >>> min_coins([1, 2, 5], 11)\n",
        "    3\n",
        "\n",
        "    >>> min_coins([2], 3)\n",
        "    -1\n",
        "    \"\"\"\n",
        "    # Initialize a DP array to store the minimum coins required for each amount from 0 to 'amount'.\n",
        "    # We initialize dp[0] to 0 because 0 coins are needed to make 0 amount.\n",
        "    dp = [float('inf')] * (amount + 1)\n",
        "    dp[0] = 0  # No coins are needed to make 0 amount.\n",
        "\n",
        "    # Iterate over each coin denomination.\n",
        "    for coin in coins:\n",
        "        # For each coin, update the dp array for all amounts from coin to the target 'amount'.\n",
        "        for i in range(coin, amount + 1):\n",
        "            # Update dp[i] to the minimum value between its current value and dp[i - coin] + 1\n",
        "            # (the \"+1\" is to include the current coin).\n",
        "            dp[i] = min(dp[i], dp[i - coin] + 1)\n",
        "\n",
        "    # If dp[amount] is still infinity, it means it's not possible to make the amount with the given coins.\n",
        "    return dp[amount] if dp[amount] != float('inf') else -1\n",
        "\n",
        "# Test Case 1\n",
        "print(min_coins([1, 2, 5], 11))  # Output should be 3 (using coins [5, 5, 1])"
      ],
      "metadata": {
        "colab": {
          "base_uri": "https://localhost:8080/"
        },
        "id": "ZwlL26dxDYcQ",
        "outputId": "1ded879c-c4cd-449c-cc88-f42a3ea11f72"
      },
      "execution_count": null,
      "outputs": [
        {
          "output_type": "stream",
          "name": "stdout",
          "text": [
            "3\n"
          ]
        }
      ]
    },
    {
      "cell_type": "code",
      "source": [
        "# Nikisha Shrestha\n",
        "# Task 2\n",
        "def longest_common_subsequence(s1, s2):\n",
        "    \"\"\"\n",
        "    Finds the length of the longest common subsequence (LCS) of two strings using dynamic programming.\n",
        "\n",
        "    Parameters:\n",
        "    s1 (str): The first string.\n",
        "    s2 (str): The second string.\n",
        "\n",
        "    Returns:\n",
        "    int: The length of the longest common subsequence.\n",
        "\n",
        "    Example:\n",
        "    >>> longest_common_subsequence(\"abcde\", \"ace\")\n",
        "    3\n",
        "    >>> longest_common_subsequence(\"abc\", \"abc\")\n",
        "    3\n",
        "    >>> longest_common_subsequence(\"abc\", \"def\")\n",
        "    0\n",
        "    \"\"\"\n",
        "    # Create a 2D DP array where dp[i][j] represents the LCS length of s1[:i] and s2[:j]\n",
        "    dp = [[0] * (len(s2) + 1) for _ in range(len(s1) + 1)]\n",
        "\n",
        "    # Fill the DP table\n",
        "    for i in range(1, len(s1) + 1):\n",
        "        for j in range(1, len(s2) + 1):\n",
        "            if s1[i-1] == s2[j-1]:\n",
        "                dp[i][j] = dp[i-1][j-1] + 1  # If characters match, extend the LCS\n",
        "            else:\n",
        "                dp[i][j] = max(dp[i-1][j], dp[i][j-1])  # Otherwise, take the max of excluding either character\n",
        "\n",
        "    # The length of the longest common subsequence will be in dp[len(s1)][len(s2)]\n",
        "    return dp[len(s1)][len(s2)]\n",
        "\n",
        "# Test Case 1: LCS of \"abcde\" and \"ace\"\n",
        "print(longest_common_subsequence(\"abcde\", \"ace\"))  # Output: 3\n",
        "\n",
        "# Test Case 2: LCS of \"abc\" and \"abc\"\n",
        "print(longest_common_subsequence(\"abc\", \"abc\"))  # Output: 3\n",
        "\n",
        "# Test Case 3: LCS of \"abc\" and \"def\"\n",
        "print(longest_common_subsequence(\"abc\", \"def\"))  # Output: 0"
      ],
      "metadata": {
        "colab": {
          "base_uri": "https://localhost:8080/"
        },
        "id": "hu6VR53IDclA",
        "outputId": "2fb9b00c-5d0e-4feb-abf6-e1e31440d7c5"
      },
      "execution_count": null,
      "outputs": [
        {
          "output_type": "stream",
          "name": "stdout",
          "text": [
            "3\n",
            "3\n",
            "0\n"
          ]
        }
      ]
    },
    {
      "cell_type": "code",
      "source": [
        "# Nikisha Shrestha\n",
        "# Task 3\n",
        "def knapsack(weights, values, capacity):\n",
        "    n = len(weights)\n",
        "    # Create a DP table with (n+1) rows and (capacity+1) columns\n",
        "    dp = [[0] * (capacity + 1) for _ in range(n + 1)]\n",
        "\n",
        "    # Fill the DP table\n",
        "    for i in range(1, n + 1):  # i is the number of items considered\n",
        "        for w in range(1, capacity + 1):  # w is the current weight capacity\n",
        "            if weights[i - 1] <= w:\n",
        "                # If the item can be included, we take the max of including or excluding it\n",
        "                dp[i][w] = max(dp[i - 1][w], values[i - 1] + dp[i - 1][w - weights[i - 1]])\n",
        "            else:\n",
        "                # If the item cannot be included, just exclude it\n",
        "                dp[i][w] = dp[i - 1][w]\n",
        "\n",
        "    # The value in dp[n][capacity] is the maximum value we can achieve\n",
        "    return dp[n][capacity]\n",
        "\n",
        "# Test the function with the provided example\n",
        "weights = [1, 3, 4, 5]\n",
        "values = [1, 4, 5, 7]\n",
        "capacity = 7\n",
        "result = knapsack(weights, values, capacity)\n",
        "print(result)  # Expected output: 9"
      ],
      "metadata": {
        "colab": {
          "base_uri": "https://localhost:8080/"
        },
        "id": "0v6fdK9-DfmP",
        "outputId": "c98b9d0d-f120-4820-9bf7-782c626e5d02"
      },
      "execution_count": null,
      "outputs": [
        {
          "output_type": "stream",
          "name": "stdout",
          "text": [
            "9\n"
          ]
        }
      ]
    }
  ]
}
