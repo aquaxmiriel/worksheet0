{
  "nbformat": 4,
  "nbformat_minor": 0,
  "metadata": {
    "colab": {
      "provenance": [],
      "mount_file_id": "1MK-bQTNFj0bvosdP5x_kBZyu49pUs09x",
      "authorship_tag": "ABX9TyMa8O8HHiRW5gHTps1H/LZV",
      "include_colab_link": true
    },
    "kernelspec": {
      "name": "python3",
      "display_name": "Python 3"
    },
    "language_info": {
      "name": "python"
    }
  },
  "cells": [
    {
      "cell_type": "markdown",
      "metadata": {
        "id": "view-in-github",
        "colab_type": "text"
      },
      "source": [
        "<a href=\"https://colab.research.google.com/github/aquaxmiriel/worksheet0/blob/main/(7)2408239_NikishaShrestha.ipynb\" target=\"_parent\"><img src=\"https://colab.research.google.com/assets/colab-badge.svg\" alt=\"Open In Colab\"/></a>"
      ]
    },
    {
      "cell_type": "code",
      "source": [
        "import pandas as pd\n",
        "from sklearn.metrics import mean_squared_error, r2_score\n",
        "\n",
        "df = pd.read_csv(\"/content/drive/MyDrive/AIWeek2/diabetes.csv\")\n",
        "\n",
        "x = df[['Pregnancies', 'Glucose', 'SkinThickness', 'Insulin', 'BMI', 'DiabetesPedigreeFunction', 'Age', 'Outcome']].values\n",
        "y = df['BloodPressure'].values\n",
        "\n",
        "missing_values = df.isnull().sum()\n",
        "print(missing_values)\n",
        "\n",
        "# Get the minimum and maximum values of the target variable\n",
        "min_value = df['BloodPressure'].min()\n",
        "max_value = df['BloodPressure'].max()\n",
        "\n",
        "print(\"Lower Bound (Min Value):\", min_value)\n",
        "print(\"Upper Bound (Max Value):\", max_value)"
      ],
      "metadata": {
        "id": "b20ysellu85V",
        "colab": {
          "base_uri": "https://localhost:8080/"
        },
        "outputId": "cd7b02f8-dc64-49d2-c381-36ca1623d118"
      },
      "execution_count": 11,
      "outputs": [
        {
          "output_type": "stream",
          "name": "stdout",
          "text": [
            "Pregnancies                 0\n",
            "Glucose                     0\n",
            "BloodPressure               0\n",
            "SkinThickness               0\n",
            "Insulin                     0\n",
            "BMI                         0\n",
            "DiabetesPedigreeFunction    0\n",
            "Age                         0\n",
            "Outcome                     0\n",
            "dtype: int64\n",
            "Lower Bound (Min Value): 0\n",
            "Upper Bound (Max Value): 122\n"
          ]
        }
      ]
    },
    {
      "cell_type": "code",
      "source": [
        "from sklearn.model_selection import train_test_split\n",
        "from sklearn.preprocessing import StandardScaler\n",
        "\n",
        "# splitting data into training and testing sets\n",
        "x_train, x_test, y_train, y_test = train_test_split(x, y, test_size = 0.2, random_state = 42)\n",
        "\n",
        "# scale the functions\n",
        "scaler = StandardScaler()\n",
        "x_train = scaler.fit_transform(x_train)\n",
        "x_test = scaler.transform(x_test)"
      ],
      "metadata": {
        "id": "w2pXtBqW6_gr"
      },
      "execution_count": 12,
      "outputs": []
    },
    {
      "cell_type": "code",
      "source": [
        "# Traning linear regression model\n",
        "from sklearn.linear_model import LinearRegression\n",
        "\n",
        "# initialize and train the model\n",
        "model = LinearRegression()\n",
        "model.fit(x_train, y_train)\n",
        "\n",
        "# using training and testing sets the model finds out the optimal weights and the intercept\n",
        "print(\"Coefficients: \", model.coef_)\n",
        "print(\"Intercept: \",model.intercept_)"
      ],
      "metadata": {
        "colab": {
          "base_uri": "https://localhost:8080/"
        },
        "id": "duBmytw_8c68",
        "outputId": "15daa916-9b3c-4047-e552-ed26037585f5"
      },
      "execution_count": 13,
      "outputs": [
        {
          "output_type": "stream",
          "name": "stdout",
          "text": [
            "Coefficients:  [ 0.60936392  1.91799445  2.91010805 -0.60367372  3.82139316 -0.12752809\n",
            "  4.53491726 -2.01035399]\n",
            "Intercept:  69.41530944625407\n"
          ]
        }
      ]
    },
    {
      "cell_type": "code",
      "source": [
        "from sklearn.metrics import mean_squared_error, r2_score\n",
        "\n",
        "# Make predictions\n",
        "y_pred = model.predict(x_test)\n",
        "\n",
        "# Evaluate\n",
        "mse = mean_squared_error(y_test, y_pred)\n",
        "r2 = r2_score(y_test, y_pred)\n",
        "\n",
        "print(f\"Mean Squared Error: {mse:.2f}\")\n",
        "print(f\"R-squared: {r2:.2f}\")"
      ],
      "metadata": {
        "colab": {
          "base_uri": "https://localhost:8080/"
        },
        "id": "J9v7bFtI_W7P",
        "outputId": "da4a9573-d5d6-4f09-f904-83fa919d2886"
      },
      "execution_count": 14,
      "outputs": [
        {
          "output_type": "stream",
          "name": "stdout",
          "text": [
            "Mean Squared Error: 402.85\n",
            "R-squared: 0.19\n"
          ]
        }
      ]
    },
    {
      "cell_type": "code",
      "source": [
        "# Interpretation and Visualization\n",
        "import matplotlib.pyplot as plt\n",
        "\n",
        "plt.scatter(y_test, y_pred, alpha=0.5)\n",
        "plt.xlabel(\"True Blood Pressure\")\n",
        "plt.ylabel(\"Predicted Blood Pressure\")\n",
        "plt.title(\"True vs PredictedBlood Pressure\")\n",
        "plt.show()"
      ],
      "metadata": {
        "colab": {
          "base_uri": "https://localhost:8080/",
          "height": 472
        },
        "id": "_kBo2Rkv96Jx",
        "outputId": "ac09b22d-7a76-4940-d972-7b3096d274fb"
      },
      "execution_count": 15,
      "outputs": [
        {
          "output_type": "display_data",
          "data": {
            "text/plain": [
              "<Figure size 640x480 with 1 Axes>"
            ],
            "image/png": "[encoded data removed]"
          },
          "metadata": {}
        }
      ]
    },
    {
      "cell_type": "markdown",
      "source": [
        "The scatter plot seem to be somewhat diagonal but is not perfectly diagonal. The points are below the dgonal line which represents underpredictions."
      ],
      "metadata": {
        "id": "TC4FG02I-rGg"
      }
    },
    {
      "cell_type": "markdown",
      "source": [
        "#Final evaluation of the model\n",
        "1. MSE is 402.85 meaning the error is moderate.\n",
        "The worst case squared error would be (122-0)^2=14884. Considering this MSE of 490 is considered moderate.\n",
        "\n",
        "2. R-squared is 0.19 meaning 19% of the variance in the target variable can be explained by the features used in the model.\n",
        "Hence, the model is not performing well.\n"
      ],
      "metadata": {
        "id": "ZPDAn0eI_rU8"
      }
    },
    {
      "cell_type": "code",
      "source": [
        "# Classification Task\n",
        "import pandas as pd\n",
        "from sklearn.model_selection import train_test_split\n",
        "from sklearn.preprocessing import StandardScaler\n",
        "from sklearn.neighbors import KNeighborsClassifier\n",
        "from sklearn.metrics import accuracy_score, confusion_matrix, classification_report\n",
        "import matplotlib.pyplot as plt\n"
      ],
      "metadata": {
        "id": "sXjLJCbkCPDV"
      },
      "execution_count": 1,
      "outputs": []
    },
    {
      "cell_type": "code",
      "source": [
        "from google.colab import files\n",
        "\n",
        "#Read the dataset into a pandas DataFrame.\n",
        "df = pd.read_csv(\"/content/drive/MyDrive/AIWeek2/diabetes.csv\")\n",
        "\n",
        "x = df[['Pregnancies', 'Glucose', 'SkinThickness', 'Insulin', 'BMI', 'DiabetesPedigreeFunction', 'Age', 'BloodPressure']].values\n",
        "y = df['Outcome'].values"
      ],
      "metadata": {
        "id": "QnCOHEmbrftw"
      },
      "execution_count": 16,
      "outputs": []
    },
    {
      "cell_type": "code",
      "source": [
        "# splitting data into training and testing sets\n",
        "x_train, x_test, y_train, y_test = train_test_split(x, y, test_size = 0.2, random_state = 42)\n",
        "\n",
        "# scale the functions\n",
        "scaler = StandardScaler()\n",
        "x_train = scaler.fit_transform(x_train)\n",
        "x_test = scaler.transform(x_test)"
      ],
      "metadata": {
        "id": "flSVHWrzTEhQ"
      },
      "execution_count": 27,
      "outputs": []
    },
    {
      "cell_type": "code",
      "source": [
        "# initialize the KNN model\n",
        "k = 5\n",
        "knn = KNeighborsClassifier(n_neighbors=k)\n",
        "\n",
        "# trin the model\n",
        "knn.fit(x_train, y_train)\n",
        "\n",
        "# predict on test data\n",
        "y_pred = knn.predict(x_test)"
      ],
      "metadata": {
        "id": "saa_JRwJTON5"
      },
      "execution_count": 28,
      "outputs": []
    },
    {
      "cell_type": "code",
      "source": [
        "# evaluate the model\n",
        "accuracy = accuracy_score(y_test, y_pred)\n",
        "print(\"Accuracy: \", accuracy)"
      ],
      "metadata": {
        "colab": {
          "base_uri": "https://localhost:8080/"
        },
        "id": "4ShfR-0tTekl",
        "outputId": "72daffd1-c0de-4db7-d900-c5c9938044f2"
      },
      "execution_count": 30,
      "outputs": [
        {
          "output_type": "stream",
          "name": "stdout",
          "text": [
            "Accuracy:  0.6948051948051948\n"
          ]
        }
      ]
    },
    {
      "cell_type": "markdown",
      "source": [
        "#Evaluation of the model\n",
        "1.The model classifed about 69.48% of the test samples corectly. This is a moderate performance."
      ],
      "metadata": {
        "id": "tGg3xkB0T_oZ"
      }
    }
  ]
}