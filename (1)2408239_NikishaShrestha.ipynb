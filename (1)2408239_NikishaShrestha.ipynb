{
  "nbformat": 4,
  "nbformat_minor": 0,
  "metadata": {
    "colab": {
      "provenance": [],
      "authorship_tag": "ABX9TyNQCncPcswHJeFVppYj5Fju",
      "include_colab_link": true
    },
    "kernelspec": {
      "name": "python3",
      "display_name": "Python 3"
    },
    "language_info": {
      "name": "python"
    }
  },
  "cells": [
    {
      "cell_type": "markdown",
      "metadata": {
        "id": "view-in-github",
        "colab_type": "text"
      },
      "source": [
        "<a href=\"https://colab.research.google.com/github/aquapirate/worksheet0/blob/main/2408239_NikishaShrestha1.ipynb\" target=\"_parent\"><img src=\"https://colab.research.google.com/assets/colab-badge.svg\" alt=\"Open In Colab\"/></a>"
      ]
    },
    {
      "cell_type": "code",
      "execution_count": null,
      "metadata": {
        "colab": {
          "base_uri": "https://localhost:8080/"
        },
        "id": "XNDAjWUwWjR-",
        "outputId": "92d640fc-9430-426c-f695-bcf3a99bab55"
      },
      "outputs": [
        {
          "output_type": "stream",
          "name": "stdout",
          "text": [
            "[[4.93951778e-310 0.00000000e+000]\n",
            " [9.03285276e+271 1.19011338e-147]]\n"
          ]
        }
      ],
      "source": [
        "# Nikisha Shrestha\n",
        "# Problem1\n",
        "# Question1\n",
        "import numpy as np\n",
        "empty_array = np.empty((2,2))\n",
        "print(empty_array)"
      ]
    },
    {
      "cell_type": "code",
      "source": [
        "# Question2\n",
        "import numpy as np\n",
        "print(np.ones((4,2)))"
      ],
      "metadata": {
        "colab": {
          "base_uri": "https://localhost:8080/"
        },
        "id": "i_aTDeS7WrbY",
        "outputId": "8d5e8216-de07-483e-a9f3-84928a5e4e26"
      },
      "execution_count": null,
      "outputs": [
        {
          "output_type": "stream",
          "name": "stdout",
          "text": [
            "[[1. 1.]\n",
            " [1. 1.]\n",
            " [1. 1.]\n",
            " [1. 1.]]\n"
          ]
        }
      ]
    },
    {
      "cell_type": "code",
      "source": [
        "# Question3\n",
        "import numpy as np\n",
        "new_array = np.full((2,2), 10, dtype=None)\n",
        "print(new_array)"
      ],
      "metadata": {
        "colab": {
          "base_uri": "https://localhost:8080/"
        },
        "id": "ydfyE_q1WtxV",
        "outputId": "b81acaca-bc92-44ba-d08c-a14274c6a32b"
      },
      "execution_count": null,
      "outputs": [
        {
          "output_type": "stream",
          "name": "stdout",
          "text": [
            "[[10 10]\n",
            " [10 10]]\n"
          ]
        }
      ]
    },
    {
      "cell_type": "code",
      "source": [
        "# Question4\n",
        "import numpy as np\n",
        "given_array = np.ones((2,2))\n",
        "print(np.zeros_like(given_array))"
      ],
      "metadata": {
        "colab": {
          "base_uri": "https://localhost:8080/"
        },
        "id": "5m9HhlDQWv2q",
        "outputId": "1e65459d-fb62-470b-d04b-47d3c9d21521"
      },
      "execution_count": null,
      "outputs": [
        {
          "output_type": "stream",
          "name": "stdout",
          "text": [
            "[[0. 0.]\n",
            " [0. 0.]]\n"
          ]
        }
      ]
    },
    {
      "cell_type": "code",
      "source": [
        "# Question5\n",
        "import numpy as np\n",
        "given_array = np.zeros((2,2))\n",
        "print(np.ones_like(given_array))"
      ],
      "metadata": {
        "colab": {
          "base_uri": "https://localhost:8080/"
        },
        "id": "JP4lfUnXWw0p",
        "outputId": "0c4188d3-bf17-41c0-b421-83de53200052"
      },
      "execution_count": null,
      "outputs": [
        {
          "output_type": "stream",
          "name": "stdout",
          "text": [
            "[[1. 1.]\n",
            " [1. 1.]]\n"
          ]
        }
      ]
    },
    {
      "cell_type": "code",
      "source": [
        "# Question6\n",
        "import numpy as np\n",
        "new_list = [1,2,3,4]\n",
        "print(np.array(new_list))"
      ],
      "metadata": {
        "colab": {
          "base_uri": "https://localhost:8080/"
        },
        "id": "sEfGo5qgW28O",
        "outputId": "64c3607f-ffe3-4725-9b0f-ce8e9cbe7403"
      },
      "execution_count": null,
      "outputs": [
        {
          "output_type": "stream",
          "name": "stdout",
          "text": [
            "[1 2 3 4]\n"
          ]
        }
      ]
    },
    {
      "cell_type": "code",
      "source": [
        "# Problem2\n",
        "# Question1\n",
        "import numpy as np\n",
        "print(np.arange(10,50))"
      ],
      "metadata": {
        "colab": {
          "base_uri": "https://localhost:8080/"
        },
        "id": "tAb3U1qsW5Er",
        "outputId": "0c10160e-a6a7-4d8c-9fbc-6113b8995414"
      },
      "execution_count": null,
      "outputs": [
        {
          "output_type": "stream",
          "name": "stdout",
          "text": [
            "[10 11 12 13 14 15 16 17 18 19 20 21 22 23 24 25 26 27 28 29 30 31 32 33\n",
            " 34 35 36 37 38 39 40 41 42 43 44 45 46 47 48 49]\n"
          ]
        }
      ]
    },
    {
      "cell_type": "code",
      "source": [
        "# Question2\n",
        "import numpy as np\n",
        "print(np.arange(9).reshape(3,3))"
      ],
      "metadata": {
        "colab": {
          "base_uri": "https://localhost:8080/"
        },
        "id": "e2y_jbR2W7Np",
        "outputId": "6911c944-abda-4824-c053-5910b804ad54"
      },
      "execution_count": null,
      "outputs": [
        {
          "output_type": "stream",
          "name": "stdout",
          "text": [
            "[[0 1 2]\n",
            " [3 4 5]\n",
            " [6 7 8]]\n"
          ]
        }
      ]
    },
    {
      "cell_type": "code",
      "source": [
        "# Question3\n",
        "import numpy as np\n",
        "print(np.eye(3))"
      ],
      "metadata": {
        "colab": {
          "base_uri": "https://localhost:8080/"
        },
        "id": "i0mEfYTKW9VS",
        "outputId": "57dd3a43-1d5b-4719-b449-1110746189a8"
      },
      "execution_count": null,
      "outputs": [
        {
          "output_type": "stream",
          "name": "stdout",
          "text": [
            "[[1. 0. 0.]\n",
            " [0. 1. 0.]\n",
            " [0. 0. 1.]]\n"
          ]
        }
      ]
    },
    {
      "cell_type": "code",
      "source": [
        "# Question4\n",
        "import numpy as np\n",
        "array = np.random.random(30)\n",
        "print(array)\n",
        "print(array.mean())"
      ],
      "metadata": {
        "colab": {
          "base_uri": "https://localhost:8080/"
        },
        "id": "PM2LVkgEW_fG",
        "outputId": "71fa5143-0a06-4d37-e602-7b5c4c72804f"
      },
      "execution_count": null,
      "outputs": [
        {
          "output_type": "stream",
          "name": "stdout",
          "text": [
            "[0.54008229 0.13126951 0.9142191  0.96824145 0.94659708 0.59691413\n",
            " 0.6738363  0.58735772 0.00716204 0.34660468 0.9604477  0.35632154\n",
            " 0.80097274 0.22210965 0.97805763 0.71551377 0.83714945 0.79917168\n",
            " 0.31691646 0.37109202 0.54222647 0.76843656 0.17163236 0.31395484\n",
            " 0.68045361 0.6980896  0.91241245 0.12605216 0.51753744 0.13064348]\n",
            "0.5643825301057688\n"
          ]
        }
      ]
    },
    {
      "cell_type": "code",
      "source": [
        "# Question5\n",
        "import numpy as np\n",
        "array = np.random.random((10,10))\n",
        "print(np.max(array))\n",
        "print(np.min(array))"
      ],
      "metadata": {
        "colab": {
          "base_uri": "https://localhost:8080/"
        },
        "id": "U8db6GC4XBXU",
        "outputId": "1232b2c9-5317-4b58-d895-f5981c019687"
      },
      "execution_count": null,
      "outputs": [
        {
          "output_type": "stream",
          "name": "stdout",
          "text": [
            "0.9921345189219235\n",
            "0.012885847872288969\n"
          ]
        }
      ]
    },
    {
      "cell_type": "code",
      "source": [
        "# Question6\n",
        "import numpy as np\n",
        "array = np.zeros(10)\n",
        "array[4] = 1\n",
        "print(array)"
      ],
      "metadata": {
        "colab": {
          "base_uri": "https://localhost:8080/"
        },
        "id": "V1-GazF6XDsK",
        "outputId": "c0138598-379e-4d7d-ec1d-36fcf8c7a0ee"
      },
      "execution_count": null,
      "outputs": [
        {
          "output_type": "stream",
          "name": "stdout",
          "text": [
            "[0. 0. 0. 0. 1. 0. 0. 0. 0. 0.]\n"
          ]
        }
      ]
    },
    {
      "cell_type": "code",
      "source": [
        "# Question7\n",
        "import numpy as np\n",
        "array = np.array([1,2,0,0,4,0])\n",
        "print(np.flip(array))"
      ],
      "metadata": {
        "colab": {
          "base_uri": "https://localhost:8080/"
        },
        "id": "1xtd5N4hXF1q",
        "outputId": "d7e2aea6-ff9b-4e6a-9a2b-417849a962cb"
      },
      "execution_count": null,
      "outputs": [
        {
          "output_type": "stream",
          "name": "stdout",
          "text": [
            "[0 4 0 0 2 1]\n"
          ]
        }
      ]
    },
    {
      "cell_type": "code",
      "source": [
        "# Question8\n",
        "import numpy as np\n",
        "array = np.ones((5,5))\n",
        "array[1:-1, 1:-1] = 0\n",
        "print(array)"
      ],
      "metadata": {
        "colab": {
          "base_uri": "https://localhost:8080/"
        },
        "id": "ztWvdIGRXIFT",
        "outputId": "6643a72e-0f96-4fe2-a77e-31b8fde80757"
      },
      "execution_count": null,
      "outputs": [
        {
          "output_type": "stream",
          "name": "stdout",
          "text": [
            "[[1. 1. 1. 1. 1.]\n",
            " [1. 0. 0. 0. 1.]\n",
            " [1. 0. 0. 0. 1.]\n",
            " [1. 0. 0. 0. 1.]\n",
            " [1. 1. 1. 1. 1.]]\n"
          ]
        }
      ]
    },
    {
      "cell_type": "code",
      "source": [
        "# Question9\n",
        "import numpy as np\n",
        "array = np.full((8,8), 0)\n",
        "array[1::2, ::2] = 1\n",
        "array[::2, 1::2] = 1\n",
        "print(array)"
      ],
      "metadata": {
        "colab": {
          "base_uri": "https://localhost:8080/"
        },
        "id": "xvghnvYSXKkq",
        "outputId": "899ee98f-2b3c-4ef7-fb1c-b87eb3476ee8"
      },
      "execution_count": null,
      "outputs": [
        {
          "output_type": "stream",
          "name": "stdout",
          "text": [
            "[[0 1 0 1 0 1 0 1]\n",
            " [1 0 1 0 1 0 1 0]\n",
            " [0 1 0 1 0 1 0 1]\n",
            " [1 0 1 0 1 0 1 0]\n",
            " [0 1 0 1 0 1 0 1]\n",
            " [1 0 1 0 1 0 1 0]\n",
            " [0 1 0 1 0 1 0 1]\n",
            " [1 0 1 0 1 0 1 0]]\n"
          ]
        }
      ]
    },
    {
      "cell_type": "code",
      "source": [
        "# Problem 3\n",
        "# Question1\n",
        "import numpy as np\n",
        "x = np.array([[1,2],[3,5]])\n",
        "y = np.array([[5,6],[7,8]])\n",
        "v = np.array([9,10])\n",
        "w = np.array([11,12])\n",
        "print(x + y)\n",
        "print(v + w)"
      ],
      "metadata": {
        "colab": {
          "base_uri": "https://localhost:8080/"
        },
        "id": "a3Y9eAeuXMf_",
        "outputId": "168c04fc-6f87-4cfb-a1f9-dd33f117d718"
      },
      "execution_count": null,
      "outputs": [
        {
          "output_type": "stream",
          "name": "stdout",
          "text": [
            "[[ 6  8]\n",
            " [10 13]]\n",
            "[20 22]\n"
          ]
        }
      ]
    },
    {
      "cell_type": "code",
      "source": [
        "# Question2\n",
        "import numpy as np\n",
        "x = np.array([[1,2],[3,5]])\n",
        "y = np.array([[5,6],[7,8]])\n",
        "v = np.array([9,10])\n",
        "w = np.array([11,12])\n",
        "print(x - y)\n",
        "print(v - w)"
      ],
      "metadata": {
        "colab": {
          "base_uri": "https://localhost:8080/"
        },
        "id": "cyWs4HmyXOZ6",
        "outputId": "0e410d3c-91cc-4252-c1d6-e9535d0f1e84"
      },
      "execution_count": null,
      "outputs": [
        {
          "output_type": "stream",
          "name": "stdout",
          "text": [
            "[[-4 -4]\n",
            " [-4 -3]]\n",
            "[-2 -2]\n"
          ]
        }
      ]
    },
    {
      "cell_type": "code",
      "source": [
        "# Question3\n",
        "import numpy as np\n",
        "x = np.array([[1,2],[3,5]])\n",
        "y = np.array([[5,6],[7,8]])\n",
        "v = np.array([9,10])\n",
        "w = np.array([11,12])\n",
        "print(x * 2)\n",
        "print(y * 2)\n",
        "print(v * 2)\n",
        "print(w * 2)"
      ],
      "metadata": {
        "colab": {
          "base_uri": "https://localhost:8080/"
        },
        "id": "6JmLuoOaXQIm",
        "outputId": "a0974b4d-70b4-457a-b5be-3c0198c715ac"
      },
      "execution_count": null,
      "outputs": [
        {
          "output_type": "stream",
          "name": "stdout",
          "text": [
            "[[ 2  4]\n",
            " [ 6 10]]\n",
            "[[10 12]\n",
            " [14 16]]\n",
            "[18 20]\n",
            "[22 24]\n"
          ]
        }
      ]
    },
    {
      "cell_type": "code",
      "source": [
        "# Question4\n",
        "import numpy as np\n",
        "x = np.array([[1,2],[3,5]])\n",
        "y = np.array([[5,6],[7,8]])\n",
        "v = np.array([9,10])\n",
        "w = np.array([11,12])\n",
        "print(np.square(x))\n",
        "print(np.square(y))\n",
        "print(np.square(v))\n",
        "print(np.square(w))"
      ],
      "metadata": {
        "colab": {
          "base_uri": "https://localhost:8080/"
        },
        "id": "V1aGiEEuXSBr",
        "outputId": "52a46cc4-b28b-4602-ccb1-765c095c9741"
      },
      "execution_count": null,
      "outputs": [
        {
          "output_type": "stream",
          "name": "stdout",
          "text": [
            "[[ 1  4]\n",
            " [ 9 25]]\n",
            "[[25 36]\n",
            " [49 64]]\n",
            "[ 81 100]\n",
            "[121 144]\n"
          ]
        }
      ]
    },
    {
      "cell_type": "code",
      "source": [
        "# Question5\n",
        "import numpy as np\n",
        "x = np.array([[1,2],[3,5]])\n",
        "y = np.array([[5,6],[7,8]])\n",
        "v = np.array([9,10])\n",
        "w = np.array([11,12])\n",
        "print(np.dot(x,y))\n",
        "print(np.dot(v,w))\n"
      ],
      "metadata": {
        "colab": {
          "base_uri": "https://localhost:8080/"
        },
        "id": "7HJ0hYp7XTzb",
        "outputId": "d291465b-e407-4bc1-f578-590638a7eef9"
      },
      "execution_count": null,
      "outputs": [
        {
          "output_type": "stream",
          "name": "stdout",
          "text": [
            "[[19 22]\n",
            " [50 58]]\n",
            "219\n"
          ]
        }
      ]
    },
    {
      "cell_type": "code",
      "source": [
        "# Question6\n",
        "import numpy as np\n",
        "x = np.array([[1,2],[3,5]])\n",
        "y = np.array([[5,6],[7,8]])\n",
        "v = np.array([9,10])\n",
        "w = np.array([11,12])\n",
        "print(np.concatenate((x,y), axis=0))\n",
        "print(np.concatenate((v.reshape(-1,1),w.reshape(-1,1)), axis=1))"
      ],
      "metadata": {
        "colab": {
          "base_uri": "https://localhost:8080/"
        },
        "id": "YnQLyDCNXWMD",
        "outputId": "8596717b-ed79-4cbb-93d4-a186639bbc45"
      },
      "execution_count": null,
      "outputs": [
        {
          "output_type": "stream",
          "name": "stdout",
          "text": [
            "[[1 2]\n",
            " [3 5]\n",
            " [5 6]\n",
            " [7 8]]\n",
            "[[ 9 11]\n",
            " [10 12]]\n"
          ]
        }
      ]
    },
    {
      "cell_type": "code",
      "source": [
        "# Question7\n",
        "import numpy as np\n",
        "x = np.array([[1,2],[3,5]])\n",
        "v = np.array([9,10])\n",
        "print(np.concatenate(x,v), axis=0)\n",
        "# we get an error because inorder to concatenate along the rows,\n",
        "# the number of cloumn must match across the arrays.\n"
      ],
      "metadata": {
        "colab": {
          "base_uri": "https://localhost:8080/",
          "height": 211
        },
        "id": "4s0ZhqL5XYQc",
        "outputId": "a236665f-c60c-4e22-ca0f-dc5ac3f84dbd"
      },
      "execution_count": null,
      "outputs": [
        {
          "output_type": "error",
          "ename": "TypeError",
          "evalue": "only integer scalar arrays can be converted to a scalar index",
          "traceback": [
            "\u001b[0;31m---------------------------------------------------------------------------\u001b[0m",
            "\u001b[0;31mTypeError\u001b[0m                                 Traceback (most recent call last)",
            "\u001b[0;32m<ipython-input-22-4a94c384c167>\u001b[0m in \u001b[0;36m<cell line: 5>\u001b[0;34m()\u001b[0m\n\u001b[1;32m      3\u001b[0m \u001b[0mx\u001b[0m \u001b[0;34m=\u001b[0m \u001b[0mnp\u001b[0m\u001b[0;34m.\u001b[0m\u001b[0marray\u001b[0m\u001b[0;34m(\u001b[0m\u001b[0;34m[\u001b[0m\u001b[0;34m[\u001b[0m\u001b[0;36m1\u001b[0m\u001b[0;34m,\u001b[0m\u001b[0;36m2\u001b[0m\u001b[0;34m]\u001b[0m\u001b[0;34m,\u001b[0m\u001b[0;34m[\u001b[0m\u001b[0;36m3\u001b[0m\u001b[0;34m,\u001b[0m\u001b[0;36m5\u001b[0m\u001b[0;34m]\u001b[0m\u001b[0;34m]\u001b[0m\u001b[0;34m)\u001b[0m\u001b[0;34m\u001b[0m\u001b[0;34m\u001b[0m\u001b[0m\n\u001b[1;32m      4\u001b[0m \u001b[0mv\u001b[0m \u001b[0;34m=\u001b[0m \u001b[0mnp\u001b[0m\u001b[0;34m.\u001b[0m\u001b[0marray\u001b[0m\u001b[0;34m(\u001b[0m\u001b[0;34m[\u001b[0m\u001b[0;36m9\u001b[0m\u001b[0;34m,\u001b[0m\u001b[0;36m10\u001b[0m\u001b[0;34m]\u001b[0m\u001b[0;34m)\u001b[0m\u001b[0;34m\u001b[0m\u001b[0;34m\u001b[0m\u001b[0m\n\u001b[0;32m----> 5\u001b[0;31m \u001b[0mprint\u001b[0m\u001b[0;34m(\u001b[0m\u001b[0mnp\u001b[0m\u001b[0;34m.\u001b[0m\u001b[0mconcatenate\u001b[0m\u001b[0;34m(\u001b[0m\u001b[0mx\u001b[0m\u001b[0;34m,\u001b[0m\u001b[0mv\u001b[0m\u001b[0;34m)\u001b[0m\u001b[0;34m,\u001b[0m \u001b[0maxis\u001b[0m\u001b[0;34m=\u001b[0m\u001b[0;36m0\u001b[0m\u001b[0;34m)\u001b[0m\u001b[0;34m\u001b[0m\u001b[0;34m\u001b[0m\u001b[0m\n\u001b[0m\u001b[1;32m      6\u001b[0m \u001b[0;31m# we get an error because inorder to concatenate along the rows,\u001b[0m\u001b[0;34m\u001b[0m\u001b[0;34m\u001b[0m\u001b[0m\n\u001b[1;32m      7\u001b[0m \u001b[0;31m# the number of cloumn must match across the arrays.\u001b[0m\u001b[0;34m\u001b[0m\u001b[0;34m\u001b[0m\u001b[0m\n",
            "\u001b[0;31mTypeError\u001b[0m: only integer scalar arrays can be converted to a scalar index"
          ]
        }
      ]
    },
    {
      "cell_type": "code",
      "source": [
        "# Problem4\n",
        "# Question1\n",
        "import numpy as np\n",
        "A = np.array([[3,4],[7,8]])\n",
        "B = np.array([[5,3],[2,1]])\n",
        "A_inv = np.linalg.inv(A)\n",
        "result = np.dot(A, A_inv)\n",
        "print(np.round(result, decimals=10))\n",
        "\n",
        "AB = np.dot(A,B)\n",
        "print(AB)\n",
        "BA = np.dot(B,A)\n",
        "print(BA)\n",
        "\n",
        "ABT = np.transpose(AB)\n",
        "print(ABT)\n",
        "AT = np.transpose(A)\n",
        "BT = np.transpose(B)\n",
        "BTAT = np.dot(BT, AT)\n",
        "print(BTAT)"
      ],
      "metadata": {
        "colab": {
          "base_uri": "https://localhost:8080/"
        },
        "id": "jHV__BW1Xai2",
        "outputId": "4331d8cb-09c7-47cb-ae20-e266789dafd3"
      },
      "execution_count": null,
      "outputs": [
        {
          "output_type": "stream",
          "name": "stdout",
          "text": [
            "[[1. 0.]\n",
            " [0. 1.]]\n",
            "[[23 13]\n",
            " [51 29]]\n",
            "[[36 44]\n",
            " [13 16]]\n",
            "[[23 51]\n",
            " [13 29]]\n",
            "[[23 51]\n",
            " [13 29]]\n"
          ]
        }
      ]
    },
    {
      "cell_type": "code",
      "source": [
        "# Question2\n",
        "import numpy as np\n",
        "A = np.array([[2, -3, 1],\n",
        "              [1, -1, 2],\n",
        "              [3, 1, -1]])\n",
        "B = np.array([-1, -3, 9])\n"
      ],
      "metadata": {
        "id": "jPWP4xZWXcno"
      },
      "execution_count": null,
      "outputs": []
    },
    {
      "cell_type": "code",
      "source": [
        "# Question3\n",
        "import numpy as np\n",
        "A = np.array([[2, -3, 1],\n",
        "              [1, -1, 2],\n",
        "              [3, 1, -1]])\n",
        "B = np.array([-1, -3, 9])\n",
        "\n",
        "A_inv = np.linalg.inv(A)\n",
        "result = np.dot(A_inv, B)\n",
        "print(result)\n",
        "# The numpy.linalg module in Numpy provides a powerful suite of linear algebra\n",
        "# functions that make it easier to perform operations commonly used in 4\n",
        "# mathematics,and Machine Learning."
      ],
      "metadata": {
        "colab": {
          "base_uri": "https://localhost:8080/"
        },
        "id": "51cgViQZXeng",
        "outputId": "d37300b1-4220-4e1f-e69d-ca2021374443"
      },
      "execution_count": null,
      "outputs": [
        {
          "output_type": "stream",
          "name": "stdout",
          "text": [
            "[ 2.  1. -2.]\n"
          ]
        }
      ]
    },
    {
      "cell_type": "code",
      "source": [
        "# 4.2\n",
        "import numpy as np\n",
        "import time\n",
        "\n",
        "# List and Numpy Array Initialization\n",
        "size = 1_000_000\n",
        "list1 = [i for i in range(size)]\n",
        "list2 = [i for i in range(size)]\n",
        "np_array1 = np.arange(size)\n",
        "np_array2 = np.arange(size)\n",
        "\n",
        "# Element-wise Addition\n",
        "print(\"Element-wise Addition:\")\n",
        "\n",
        "# Using Python Lists\n",
        "start_time = time.time()\n",
        "list_result_add = [list1[i] + list2[i] for i in range(size)]\n",
        "end_time = time.time()\n",
        "print(f\"Python Lists: {end_time - start_time:.6f} seconds\")\n",
        "\n",
        "# Using NumPy Arrays\n",
        "start_time = time.time()\n",
        "np_result_add = np_array1 + np_array2\n",
        "end_time = time.time()\n",
        "print(f\"NumPy Arrays: {end_time - start_time:.6f} seconds\")\n",
        "\n",
        "# Element-wise Multiplication\n",
        "print(\"\\nElement-wise Multiplication:\")\n",
        "\n",
        "# Using Python Lists\n",
        "start_time = time.time()\n",
        "list_result_mul = [list1[i] * list2[i] for i in range(size)]\n",
        "end_time = time.time()\n",
        "print(f\"Python Lists: {end_time - start_time:.6f} seconds\")\n",
        "\n",
        "# Using NumPy Arrays\n",
        "start_time = time.time()\n",
        "np_result_mul = np_array1 * np_array2\n",
        "end_time = time.time()\n",
        "print(f\"NumPy Arrays: {end_time - start_time:.6f} seconds\")\n",
        "\n",
        "# Dot Product\n",
        "print(\"\\nDot Product:\")\n",
        "\n",
        "# Using Python Lists\n",
        "start_time = time.time()\n",
        "list_dot_product = sum(list1[i] * list2[i] for i in range(size))\n",
        "end_time = time.time()\n",
        "print(f\"Python Lists: {end_time - start_time:.6f} seconds\")\n",
        "\n",
        "# Using NumPy Arrays\n",
        "start_time = time.time()\n",
        "np_dot_product = np.dot(np_array1, np_array2)\n",
        "end_time = time.time()\n",
        "print(f\"NumPy Arrays: {end_time - start_time:.6f} seconds\")\n",
        "\n",
        "# Matrix Multiplication\n",
        "print(\"\\nMatrix Multiplication:\")\n",
        "matrix_size = 1000\n",
        "list_matrix1 = [[i for i in range(matrix_size)] for _ in range(matrix_size)]\n",
        "list_matrix2 = [[i for i in range(matrix_size)] for _ in range(matrix_size)]\n",
        "np_matrix1 = np.arange(matrix_size**2).reshape(matrix_size, matrix_size)\n",
        "np_matrix2 = np.arange(matrix_size**2).reshape(matrix_size, matrix_size)\n",
        "\n",
        "# Using Python Lists\n",
        "def matrix_mult(mat1, mat2):\n",
        "    result = [[sum(a * b for a, b in zip(row, col)) for col in zip(*mat2)] for row in mat1]\n",
        "    return result\n",
        "\n",
        "start_time = time.time()\n",
        "list_matrix_result = matrix_mult(list_matrix1, list_matrix2)\n",
        "end_time = time.time()\n",
        "print(f\"Python Lists: {end_time - start_time:.6f} seconds\")\n",
        "\n",
        "# Using NumPy Arrays\n",
        "start_time = time.time()\n",
        "np_matrix_result = np.dot(np_matrix1, np_matrix2)\n",
        "end_time = time.time()\n",
        "print(f\"NumPy Arrays: {end_time - start_time:.6f} seconds\")\n"
      ],
      "metadata": {
        "colab": {
          "base_uri": "https://localhost:8080/"
        },
        "id": "jBpPz_nIWpa_",
        "outputId": "cd0da0be-a3df-4c13-b81d-c653a26afa13"
      },
      "execution_count": null,
      "outputs": [
        {
          "output_type": "stream",
          "name": "stdout",
          "text": [
            "Element-wise Addition:\n",
            "Python Lists: 0.165211 seconds\n",
            "NumPy Arrays: 0.030408 seconds\n",
            "\n",
            "Element-wise Multiplication:\n",
            "Python Lists: 0.151843 seconds\n",
            "NumPy Arrays: 0.004307 seconds\n",
            "\n",
            "Dot Product:\n",
            "Python Lists: 0.156864 seconds\n",
            "NumPy Arrays: 0.002005 seconds\n",
            "\n",
            "Matrix Multiplication:\n",
            "Python Lists: 207.765707 seconds\n",
            "NumPy Arrays: 1.278038 seconds\n"
          ]
        }
      ]
    }
  ]
}
